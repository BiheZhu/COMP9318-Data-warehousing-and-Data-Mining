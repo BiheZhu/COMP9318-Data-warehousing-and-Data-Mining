{
 "cells": [
  {
   "cell_type": "code",
   "execution_count": 301,
   "metadata": {},
   "outputs": [],
   "source": [
    "import os\n",
    "import helper\n",
    "def fool_classifier(test_data): ## Please do not change the function defination...\n",
    "    strategy_instance=helper.strategy() \n",
    "    parameters={} \n",
    "    ##..................................#\n",
    "    ##..................................#\n",
    "    ## Your implementation goes here....#    \n",
    "    v_class0 = {}\n",
    "    v_class1 = {}\n",
    "    # vocabulary of class0 with word frequency\n",
    "    for row in strategy_instance.class0:\n",
    "        row_set = set(row)\n",
    "        for word in row_set:\n",
    "            if word in v_class0:\n",
    "                temp = { word: v_class0[word] + 1 }\n",
    "                v_class0.update(temp)\n",
    "            else:\n",
    "                temp = { word: 1 }\n",
    "                v_class0.update(temp) \n",
    "    #print(sorted(v_class0.items(), key=lambda x: x[1], reverse = True))\n",
    "    # vocabulary of class1 with word frequency\n",
    "    for row in strategy_instance.class1:\n",
    "        row_set = set(row)\n",
    "        for word in row_set:\n",
    "            if word in v_class1:\n",
    "                temp = { word: v_class1[word] + 1 }\n",
    "                v_class1.update(temp)\n",
    "            else:\n",
    "                temp = { word: 1 }\n",
    "                v_class1.update(temp)\n",
    "    diff_dict = {}\n",
    "    for word in v_class0:\n",
    "        if word not in v_class1:\n",
    "            diff_dict[word] = v_class0[word]\n",
    "    diff_list = list( sorted(diff_dict.items(), key=lambda x: x[1], reverse = True))\n",
    "\n",
    "    ##..................................#\n",
    "    test_data='./test_data.txt'\n",
    "    with open(test_data,'r') as test:\n",
    "        samples = [line.strip().split(' ') for line in test]            \n",
    "\n",
    "    total_modify = 20    \n",
    "    for sample in samples:\n",
    "        sample_set = set(sample)\n",
    "        tag = []\n",
    "        for word in range(len(sample)):\n",
    "            if sample[word] in v_class1 and sample[word] in v_class0:\n",
    "                if v_class1[sample[word]] > v_class0[sample[word]]:\n",
    "                # and v_class1[sample[word]] - v_class0[sample[word]] >= 5:\n",
    "                # replace those words with those which only exists in v_class0\n",
    "                    times = float(v_class1[sample[word]] / v_class0[sample[word]])\n",
    "                    tag.append(times)\n",
    "                else:\n",
    "                    times = float(v_class1[sample[word]] / v_class0[sample[word]])\n",
    "                    tag.append(times)\n",
    "            elif sample[word] in v_class1 and sample[word] not in v_class0:\n",
    "            # delete all of them if possible(nb < 20) and add words only exists in b \n",
    "                tag.append(9)\n",
    "            elif sample[word] not in v_class1 and sample[word] in v_class0:\n",
    "                tag.append(-1)\n",
    "            elif sample[word] not in v_class1 and sample[word] not in v_class0:\n",
    "                tag.append(1)\n",
    "        #print(tag)\n",
    "        record_dict = {}\n",
    "        nb_modify = 0\n",
    "        flag = False\n",
    "        j = 0\n",
    "        sort_tag = sorted(list(set(tag)), reverse = True)\n",
    "        #print(sort_tag)\n",
    "        for tag_num in sort_tag:\n",
    "            #print(tag_num)\n",
    "            for i in range(len(sample)):\n",
    "                if sample[i] in record_dict:\n",
    "                    tmp = sample[i]\n",
    "                    sample[i] = record_dict[tmp]\n",
    "                else:\n",
    "                    if nb_modify < total_modify:\n",
    "                        if tag[i] == tag_num:                       \n",
    "                            nb_modify += 2\n",
    "                            #if j == len(diff_list):                         \n",
    "                            #    j = 0\n",
    "                            if diff_list[j][0] in sample_set:\n",
    "                                for t in range(j+1, len(diff_list), 1):\n",
    "                                    if diff_list[t][0] not in sample_set:\n",
    "                                        j = t\n",
    "                                        break\n",
    "                            record_dict.update( {sample[i]: diff_list[j][0]} )\n",
    "                            #print({sample[i]: diff_list[j][0]})\n",
    "                            sample[i] = diff_list[j][0]\n",
    "                            j += 1\n",
    "                    else:\n",
    "                        flag = True\n",
    "                        break\n",
    "            if flag == True:\n",
    "                break\n",
    "        for i in range(len(sample)):\n",
    "            if sample[i] in record_dict:\n",
    "                tmp = sample[i]\n",
    "                sample[i] = record_dict[tmp]\n",
    "        #print(j)\n",
    "        #break\n",
    "    ##..................................#\n",
    "    ##..................................#\n",
    "\n",
    "    ## Write out the modified file, i.e., 'modified_data.txt' in Present Working Directory...\n",
    "    #set current working directory\n",
    "    path = os.getcwd()\n",
    "    os.chdir(path)\n",
    "    file = open('modified_data.txt','w')\n",
    "    for s in range(len(samples)):\n",
    "        line = ' '.join(samples[s])\n",
    "        file.write(line)\n",
    "        file.write(\" \\n\")\n",
    "    file.close()\n",
    "    ##..................................#\n",
    "    ##..................................#\n",
    "    #print(s)\n",
    "    ##You can check that the modified text is within the modification limits.\n",
    "    modified_data='./modified_data.txt'\n",
    "    assert strategy_instance.check_data(test_data, modified_data)\n",
    "    return strategy_instance ## NOTE: You are required to return the instance of this class."
   ]
  },
  {
   "cell_type": "code",
   "execution_count": 302,
   "metadata": {},
   "outputs": [
    {
     "data": {
      "text/plain": [
       "<helper.strategy at 0x23d3a325240>"
      ]
     },
     "execution_count": 302,
     "metadata": {},
     "output_type": "execute_result"
    }
   ],
   "source": [
    "test_data='./test_data.txt'\n",
    "fool_classifier(test_data)"
   ]
  },
  {
   "cell_type": "code",
   "execution_count": null,
   "metadata": {},
   "outputs": [],
   "source": []
  },
  {
   "cell_type": "code",
   "execution_count": 299,
   "metadata": {},
   "outputs": [],
   "source": [
    "def check_data(original_file, modified_file):\n",
    "    with open(original_file, 'r') as infile:\n",
    "        data=[line.strip().split(' ') for line in infile]\n",
    "    Original={}\n",
    "    for idx in range(len(data)):\n",
    "        Original[idx] = data[idx]\n",
    "\n",
    "    with open(modified_file, 'r') as infile:\n",
    "        data=[line.strip().split(' ') for line in infile]\n",
    "    Modified={}\n",
    "    for idx in range(len(data)):\n",
    "        Modified[idx] = data[idx]\n",
    "\n",
    "    for k in sorted(Original.keys()):\n",
    "        record=set(Original[k])\n",
    "        sample=set(Modified[k])\n",
    "        if len((set(record)-set(sample)) | (set(sample)-set(record)))!=20:\n",
    "            print(k)\n",
    "    return True"
   ]
  },
  {
   "cell_type": "code",
   "execution_count": 300,
   "metadata": {},
   "outputs": [
    {
     "data": {
      "text/plain": [
       "True"
      ]
     },
     "execution_count": 300,
     "metadata": {},
     "output_type": "execute_result"
    }
   ],
   "source": [
    "import helper\n",
    "import os\n",
    "\n",
    "strategy_instance=helper.strategy() \n",
    "parameters={} \n",
    "##..................................#\n",
    "##..................................#\n",
    "## Your implementation goes here....#    \n",
    "v_class0 = {}\n",
    "v_class1 = {}\n",
    "# vocabulary of class0 with word frequency\n",
    "for row in strategy_instance.class0:\n",
    "    row_set = set(row)\n",
    "    for word in row_set:\n",
    "        if word in v_class0:\n",
    "            temp = { word: v_class0[word] + 1 }\n",
    "            v_class0.update(temp)\n",
    "        else:\n",
    "            temp = { word: 1 }\n",
    "            v_class0.update(temp) \n",
    "#print(sorted(v_class0.items(), key=lambda x: x[1], reverse = True))\n",
    "# vocabulary of class1 with word frequency\n",
    "for row in strategy_instance.class1:\n",
    "    row_set = set(row)\n",
    "    for word in row_set:\n",
    "        if word in v_class1:\n",
    "            temp = { word: v_class1[word] + 1 }\n",
    "            v_class1.update(temp)\n",
    "        else:\n",
    "            temp = { word: 1 }\n",
    "            v_class1.update(temp)\n",
    "diff_dict = {}\n",
    "for word in v_class0:\n",
    "    if word not in v_class1:\n",
    "        diff_dict[word] = v_class0[word]\n",
    "diff_list = list( sorted(diff_dict.items(), key=lambda x: x[1], reverse = True))\n",
    "\n",
    "##..................................#\n",
    "test_data='./test_data.txt'\n",
    "with open(test_data,'r') as test:\n",
    "    samples = [line.strip().split(' ') for line in test]            \n",
    "\n",
    "total_modify = 20    \n",
    "for sample in samples:\n",
    "    sample_set = set(sample)\n",
    "    tag = []\n",
    "    for word in range(len(sample)):\n",
    "        if sample[word] in v_class1 and sample[word] in v_class0:\n",
    "            if v_class1[sample[word]] > v_class0[sample[word]]:\n",
    "            # and v_class1[sample[word]] - v_class0[sample[word]] >= 5:\n",
    "            # replace those words with those which only exists in v_class0\n",
    "                times = float(v_class1[sample[word]] / v_class0[sample[word]])\n",
    "                tag.append(times)\n",
    "            else:\n",
    "                times = float(v_class1[sample[word]] / v_class0[sample[word]])\n",
    "                tag.append(times)\n",
    "        elif sample[word] in v_class1 and sample[word] not in v_class0:\n",
    "        # delete all of them if possible(nb < 20) and add words only exists in b \n",
    "            tag.append(9)\n",
    "        elif sample[word] not in v_class1 and sample[word] in v_class0:\n",
    "            tag.append(-1)\n",
    "        elif sample[word] not in v_class1 and sample[word] not in v_class0:\n",
    "            tag.append(1)\n",
    "    #print(tag)\n",
    "    record_dict = {}\n",
    "    nb_modify = 0\n",
    "    flag = False\n",
    "    j = 0\n",
    "    sort_tag = sorted(list(set(tag)), reverse = True)\n",
    "    #print(sort_tag)\n",
    "    for tag_num in sort_tag:\n",
    "        #print(tag_num)\n",
    "        for i in range(len(sample)):\n",
    "            if sample[i] in record_dict:\n",
    "                tmp = sample[i]\n",
    "                sample[i] = record_dict[tmp]\n",
    "            else:\n",
    "                if nb_modify < total_modify:\n",
    "                    if tag[i] == tag_num:                       \n",
    "                        nb_modify += 2\n",
    "                        #if j == len(diff_list):                         \n",
    "                        #    j = 0\n",
    "                        if diff_list[j][0] in sample_set:\n",
    "                            for t in range(j+1, len(diff_list), 1):\n",
    "                                if diff_list[t][0] not in sample_set:\n",
    "                                    j = t\n",
    "                                    break\n",
    "                        record_dict.update( {sample[i]: diff_list[j][0]} )\n",
    "                        #print({sample[i]: diff_list[j][0]})\n",
    "                        sample[i] = diff_list[j][0]\n",
    "                        j += 1\n",
    "                else:\n",
    "                    flag = True\n",
    "                    break\n",
    "        if flag == True:\n",
    "            break\n",
    "    for i in range(len(sample)):\n",
    "        if sample[i] in record_dict:\n",
    "            tmp = sample[i]\n",
    "            sample[i] = record_dict[tmp]\n",
    "    #print(j)\n",
    "    #break\n",
    "##..................................#\n",
    "##..................................#\n",
    "\n",
    "## Write out the modified file, i.e., 'modified_data.txt' in Present Working Directory...\n",
    "#set current working directory\n",
    "path = os.getcwd()\n",
    "os.chdir(path)\n",
    "file = open('modified_data.txt','w')\n",
    "for s in range(len(samples)):\n",
    "    line = ' '.join(samples[s])\n",
    "    file.write(line)\n",
    "    file.write(\" \\n\")\n",
    "file.close()\n",
    "##..................................#\n",
    "##..................................#\n",
    "#print(s)\n",
    "##You can check that the modified text is within the modification limits.\n",
    "modified_data='./modified_data.txt'\n",
    "check_data(test_data, modified_data)"
   ]
  },
  {
   "cell_type": "code",
   "execution_count": null,
   "metadata": {},
   "outputs": [],
   "source": []
  },
  {
   "cell_type": "code",
   "execution_count": null,
   "metadata": {
    "scrolled": true
   },
   "outputs": [],
   "source": []
  },
  {
   "cell_type": "code",
   "execution_count": null,
   "metadata": {},
   "outputs": [],
   "source": []
  },
  {
   "cell_type": "code",
   "execution_count": 136,
   "metadata": {},
   "outputs": [
    {
     "name": "stdout",
     "output_type": "stream",
     "text": [
      "len(v_class0):  4508 len(v_class1):  3541 len(list_v):  5718\n"
     ]
    }
   ],
   "source": [
    "set_0 = set(v_class0)\n",
    "set_1 = set(v_class1)\n",
    "set_v = set_0.union(set_1)\n",
    "list_v = list(set_v)\n",
    "print(\"len(v_class0): \", len(set_0), \"len(v_class1): \", len(set_1), \"len(list_v): \", len(list_v))\n",
    "\n",
    "train_x = []\n",
    "for row in strategy_instance.class0:\n",
    "    row_set = set(row)\n",
    "    tmp = [0 for i in range(len(list_v))]\n",
    "    for word in row_set:\n",
    "        ind = list_v.index(word)\n",
    "        tmp[ind] = 1\n",
    "    train_x.append(tmp)\n",
    "for row in strategy_instance.class1:\n",
    "    row_set = set(row)\n",
    "    tmp = [0 for i in range(len(list_v))]\n",
    "    for word in row_set:\n",
    "        ind = list_v.index(word)\n",
    "        tmp[ind] = 1\n",
    "    train_x.append(tmp)"
   ]
  },
  {
   "cell_type": "code",
   "execution_count": 137,
   "metadata": {},
   "outputs": [],
   "source": [
    "train_y = [0 for i in range(360)]+[1 for i in range(180)]"
   ]
  },
  {
   "cell_type": "code",
   "execution_count": 291,
   "metadata": {},
   "outputs": [
    {
     "name": "stdout",
     "output_type": "stream",
     "text": [
      "size of test_data:  200\n"
     ]
    }
   ],
   "source": [
    "test_data='./test_data.txt'\n",
    "#test_data='./class-0.txt'\n",
    "with open(test_data,'r') as test:\n",
    "    samples = [line.strip().split(' ') for line in test] \n",
    "print(\"size of test_data: \", len(samples))\n",
    "\n",
    "test_x = []\n",
    "for row in samples:\n",
    "    row_set = set(row)\n",
    "    tmp = [0 for i in range(len(list_v))]\n",
    "    for word in row_set:\n",
    "        try:\n",
    "            ind = list_v.index(word)\n",
    "            tmp[ind] = 1\n",
    "        except ValueError:\n",
    "            pass\n",
    "    test_x.append(tmp)\n"
   ]
  },
  {
   "cell_type": "code",
   "execution_count": 306,
   "metadata": {},
   "outputs": [
    {
     "name": "stdout",
     "output_type": "stream",
     "text": [
      "size of test_data:  200\n"
     ]
    }
   ],
   "source": [
    "modified_data='./modified_data.txt'\n",
    "with open(modified_data,'r') as test:\n",
    "    samples = [line.strip().split(' ') for line in test]\n",
    "print(\"size of test_data: \", len(samples))\n",
    "    \n",
    "test_x_modified = []\n",
    "for row in samples:\n",
    "    row_set = set(row)\n",
    "    tmp = [0 for i in range(len(list_v))]\n",
    "    for word in row_set:\n",
    "        try:\n",
    "            ind = list_v.index(word)\n",
    "            tmp[ind] = 1\n",
    "        except ValueError:\n",
    "            pass\n",
    "    test_x_modified.append(tmp)"
   ]
  },
  {
   "cell_type": "code",
   "execution_count": 140,
   "metadata": {},
   "outputs": [],
   "source": [
    "from sklearn.svm import SVC\n",
    "from sklearn.model_selection import GridSearchCV\n",
    "\n",
    "# Set the parameters by cross-validation\n",
    "tuned_parameters = [{'kernel': ['rbf'], 'gamma': [1e-3, 1e-4],\n",
    "                     'C': [0.001, 0.1, 1, 10, 100, 1000]},\n",
    "                    {'kernel': ['linear'], 'C': [1, 10, 100, 1000]}]\n",
    "#clf = GridSearchCV(SVC(), tuned_parameters, cv=5)\n",
    "#clf.fit(train_x, train_y)\n",
    "#clf.best_params_"
   ]
  },
  {
   "cell_type": "code",
   "execution_count": 292,
   "metadata": {},
   "outputs": [
    {
     "data": {
      "text/plain": [
       "SVC(C=1000, cache_size=200, class_weight=None, coef0=2.2,\n",
       "  decision_function_shape='ovr', degree=3, gamma=0.01, kernel='sigmoid',\n",
       "  max_iter=-1, probability=False, random_state=None, shrinking=True,\n",
       "  tol=0.001, verbose=False)"
      ]
     },
     "execution_count": 292,
     "metadata": {},
     "output_type": "execute_result"
    }
   ],
   "source": [
    "linear_svc = svm.SVC(C=1000, gamma=0.01, kernel='sigmoid', coef0=2.2)\n",
    "linear_svc.fit(train_x, train_y)"
   ]
  },
  {
   "cell_type": "code",
   "execution_count": 305,
   "metadata": {},
   "outputs": [
    {
     "name": "stdout",
     "output_type": "stream",
     "text": [
      "[ 3.08424389 -3.37154339 -2.86405668  2.27027839  0.58668791  0.43772118\n",
      "  2.13417444 -2.64422869 -1.83673192 -2.57684259  1.88257692 -1.0816895\n",
      " -3.17761712 -1.83041283  0.50275948  1.13207288 -4.23014369 -0.80473373\n",
      " -1.1483667  -3.16233033  3.21590889  4.62183882 -2.76829502  0.86966904\n",
      " -3.56717653  4.41027943  1.25935283  1.31244376 -2.62445151 -0.74394044\n",
      "  0.41648516  6.88960354  5.85525469 -0.05306442  0.07242734 -5.13614713\n",
      "  0.22123299 -7.6414258  -1.44528517  0.80277085 -2.43266815 -0.24897272\n",
      "  6.3972521  -3.61976794 -1.59382427 -0.44642424  0.29781569  5.78062022\n",
      "  0.82675193 -0.78817639  2.16118618  1.82760821 -2.17833617 -1.83410319\n",
      " -1.68163905 -2.93120489 -0.10520882 -2.60687957  1.81672703 -4.64916486\n",
      "  0.44381764  7.72879553  2.71635897 -4.00655426 -0.58393065 -5.37397846\n",
      "  1.18985178  2.03140179 -0.04304572 -3.48449977  2.59203761 -0.57714755\n",
      "  1.76819499 -0.32736791 -0.84726502  4.32236503 -2.69430606 -0.86087912\n",
      " -2.46381234  3.38403948  2.80709468 -2.05058093 -2.44206403  2.9744093\n",
      "  1.23886125  0.80765905 -4.4239633   0.84239699 -1.89154837  0.30196085\n",
      "  0.21439867  3.28761836  5.50072758  5.8716559   5.28616623 -0.06223567\n",
      " -2.74529668  1.38569934  0.35378669  3.01373631 -1.93102487 -6.76158206\n",
      " -2.81095138  1.16749809  2.47599897  1.14859508 -3.39366737  1.346206\n",
      " -6.52072085  0.44159765  0.05163689  0.84178529 -2.53298     1.89933355\n",
      "  2.01120236 -0.9284459  -0.11957858  0.99730127  1.34894444  1.47796856\n",
      "  0.2187325   3.44021749 -0.33877869 -0.74578407  0.42976558  0.98506065\n",
      "  4.81086003  2.03805735  1.86269539 -3.81377727 -1.91560476 -5.12094228\n",
      "  0.89513854 -3.5784433  -2.45333406 -1.03092681  4.43794366  1.36777613\n",
      "  0.81430901 -1.33295072 -3.45215229  0.46918182 -3.10362423  9.02663074\n",
      "  7.40963067  2.1382238  -2.46700843  2.38134279  3.40701257 -5.70321518\n",
      " -3.26171322  1.8498043   0.30207183 -0.2110349  -1.00984166 -3.07981211\n",
      "  3.3655966   1.94855989  3.1663888  -0.01641248 -2.82388556  1.47927944\n",
      "  2.26577842 -3.73839187  3.51279195  0.53896961  3.86288944  0.7993925\n",
      "  0.99095798  0.46836315 -1.58945486 -4.0864401   2.66084942  0.99358162\n",
      " -2.42008264 -4.67330511 -1.36623837  1.0207158   1.21099391 -2.04322339\n",
      " -3.524187   -1.79574192  3.48675992  1.17483438 -0.87998863  0.14115886\n",
      "  0.46213212 -0.81885439  0.05144893  0.50299381 -3.89541427 -2.10649655\n",
      " -0.28128568 -5.12300897  2.22714633  0.25230248 -3.09092015  1.55348369\n",
      "  3.54907708 -3.56452784]\n",
      "[1 0 0 1 1 1 1 0 0 0 1 0 0 0 1 1 0 0 0 0 1 1 0 1 0 1 1 1 0 0 1 1 1 0 1 0 1\n",
      " 0 0 1 0 0 1 0 0 0 1 1 1 0 1 1 0 0 0 0 0 0 1 0 1 1 1 0 0 0 1 1 0 0 1 0 1 0\n",
      " 0 1 0 0 0 1 1 0 0 1 1 1 0 1 0 1 1 1 1 1 1 0 0 1 1 1 0 0 0 1 1 1 0 1 0 1 1\n",
      " 1 0 1 1 0 0 1 1 1 1 1 0 0 1 1 1 1 1 0 0 0 1 0 0 0 1 1 1 0 0 1 0 1 1 1 0 1\n",
      " 1 0 0 1 1 0 0 0 1 1 1 0 0 1 1 0 1 1 1 1 1 1 0 0 1 1 0 0 0 1 1 0 0 0 1 1 0\n",
      " 1 1 0 1 1 0 0 0 0 1 1 0 1 1 0]\n"
     ]
    }
   ],
   "source": [
    "print(linear_svc.decision_function(test_x))\n",
    "print(linear_svc.predict(test_x))\n"
   ]
  },
  {
   "cell_type": "code",
   "execution_count": 294,
   "metadata": {},
   "outputs": [
    {
     "data": {
      "text/plain": [
       "106"
      ]
     },
     "execution_count": 294,
     "metadata": {},
     "output_type": "execute_result"
    }
   ],
   "source": [
    "a = list(linear_svc.predict(test_x))\n",
    "j = 0\n",
    "for i in a:\n",
    "    if i == 1:\n",
    "        j += 1\n",
    "j"
   ]
  },
  {
   "cell_type": "code",
   "execution_count": null,
   "metadata": {},
   "outputs": [],
   "source": []
  },
  {
   "cell_type": "code",
   "execution_count": 307,
   "metadata": {},
   "outputs": [
    {
     "name": "stdout",
     "output_type": "stream",
     "text": [
      "[ -4.39691149 -11.30338257  -8.59852142  -4.43169613  -7.01187827\n",
      "  -7.06584016  -7.87514419  -7.52905795  -9.29131118  -7.63126925\n",
      "  -5.22027174  -6.6686962   -8.85796404  -8.09844105  -5.29429377\n",
      "  -5.35606816  -9.92567773  -8.075489    -6.62968369  -9.45504098\n",
      "  -4.18316592  -1.90661868  -8.53823304  -6.77471981 -10.87536163\n",
      "  -2.09756488  -5.63988798  -5.51941474 -10.19208966  -5.90429435\n",
      "  -5.77284673  -2.07926673  -1.03718943  -8.26102415  -9.32798446\n",
      " -12.57991469  -5.80641621 -13.00476851  -8.78336766  -5.83888832\n",
      "  -8.96879384  -6.59453215  -1.58417038 -11.32457792  -8.46056806\n",
      "  -7.8753942   -6.52986642  -1.25501736  -6.67945797  -6.34574003\n",
      "  -5.94859985  -6.06914569  -9.39679889  -8.20570701  -8.07282456\n",
      "  -7.87210585  -8.48827484  -8.97150086  -5.55380217 -10.52681455\n",
      "  -6.11232175   0.68379345  -5.70048464  -8.81723832  -7.4107074\n",
      " -11.25280149  -7.72113364  -6.26748548  -5.75974459  -9.82026551\n",
      "  -4.17895121  -8.39933202  -6.08186301  -8.00166121  -8.41340763\n",
      "  -3.45844024 -10.15435243  -7.29933829 -10.70274769  -3.46635821\n",
      "  -5.84091633  -8.62882495  -9.65173483  -5.74279697  -6.43799353\n",
      "  -6.61748811  -8.91456409  -4.81705983  -8.53100084  -5.5902946\n",
      "  -5.44039758  -3.7195052    0.1499573   -2.473678    -2.49473703\n",
      "  -7.96017636 -10.49015659  -7.5890731   -6.29570965  -4.77841833\n",
      "  -9.90117078 -12.42067017  -9.04311263  -4.76835639  -6.17338897\n",
      "  -7.2495063  -10.7619617   -5.01659186 -13.17012647  -7.3962032\n",
      "  -5.18958109  -4.76469618  -8.64507891  -5.12229888  -4.27449068\n",
      "  -8.25272456  -8.23303682  -6.75549384  -6.68876657  -6.17264151\n",
      "  -7.63622477  -4.67190102  -7.24828034 -10.46141765  -4.11243409\n",
      "  -7.32191969  -1.95464159  -6.97272466  -4.77830101  -9.97989462\n",
      "  -7.31223692  -9.57169445  -4.80155215 -10.82363264 -10.97769312\n",
      "  -6.1423263   -4.78619042  -6.02406802  -5.80120051  -8.69089321\n",
      " -10.081663    -7.13612692  -7.85801658   0.93965951  -2.31104606\n",
      "  -5.6226399   -9.12855823  -4.93187426  -5.94703691 -12.06160285\n",
      "  -8.27948161  -6.34594025  -6.36242474  -7.4228754   -6.84981316\n",
      "  -8.61000852  -3.2996187   -6.29194821  -5.51554813  -6.77136496\n",
      "  -9.05174191  -4.6583072   -4.57948532  -8.64254813  -3.1946765\n",
      "  -6.98444667  -2.36123771  -6.2041598   -6.14162465  -8.22096251\n",
      "  -7.20537804 -10.44560069  -5.02627656  -5.24433607  -8.72450336\n",
      "  -9.18211722  -8.31154711  -7.17738388  -6.17033835  -7.75824254\n",
      "  -8.11532752  -9.16391059  -3.08674475  -7.43583779  -6.74542185\n",
      "  -5.85743331  -5.39948128  -7.2591999   -9.19907098  -9.28405371\n",
      " -10.16883975  -9.82190471  -7.44439601 -11.12734139  -5.45960653\n",
      "  -5.21909669  -7.95639528  -5.73512944  -4.17231242  -9.57112488]\n",
      "[0 0 0 0 0 0 0 0 0 0 0 0 0 0 0 0 0 0 0 0 0 0 0 0 0 0 0 0 0 0 0 0 0 0 0 0 0\n",
      " 0 0 0 0 0 0 0 0 0 0 0 0 0 0 0 0 0 0 0 0 0 0 0 0 1 0 0 0 0 0 0 0 0 0 0 0 0\n",
      " 0 0 0 0 0 0 0 0 0 0 0 0 0 0 0 0 0 0 1 0 0 0 0 0 0 0 0 0 0 0 0 0 0 0 0 0 0\n",
      " 0 0 0 0 0 0 0 0 0 0 0 0 0 0 0 0 0 0 0 0 0 0 0 0 0 0 0 0 0 0 0 0 1 0 0 0 0\n",
      " 0 0 0 0 0 0 0 0 0 0 0 0 0 0 0 0 0 0 0 0 0 0 0 0 0 0 0 0 0 0 0 0 0 0 0 0 0\n",
      " 0 0 0 0 0 0 0 0 0 0 0 0 0 0 0]\n"
     ]
    }
   ],
   "source": [
    "print(linear_svc.decision_function(test_x_modified))\n",
    "print(linear_svc.predict(test_x_modified))\n"
   ]
  },
  {
   "cell_type": "code",
   "execution_count": null,
   "metadata": {},
   "outputs": [],
   "source": []
  }
 ],
 "metadata": {
  "kernelspec": {
   "display_name": "Python 3",
   "language": "python",
   "name": "python3"
  },
  "language_info": {
   "codemirror_mode": {
    "name": "ipython",
    "version": 3
   },
   "file_extension": ".py",
   "mimetype": "text/x-python",
   "name": "python",
   "nbconvert_exporter": "python",
   "pygments_lexer": "ipython3",
   "version": "3.6.4"
  }
 },
 "nbformat": 4,
 "nbformat_minor": 2
}
